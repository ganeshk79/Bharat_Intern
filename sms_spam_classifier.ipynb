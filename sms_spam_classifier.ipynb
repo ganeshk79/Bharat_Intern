{
  "nbformat": 4,
  "nbformat_minor": 0,
  "metadata": {
    "colab": {
      "provenance": [],
      "authorship_tag": "ABX9TyM3fFNYQX3VkkAczIdF71wc",
      "include_colab_link": true
    },
    "kernelspec": {
      "name": "python3",
      "display_name": "Python 3"
    },
    "language_info": {
      "name": "python"
    }
  },
  "cells": [
    {
      "cell_type": "markdown",
      "metadata": {
        "id": "view-in-github",
        "colab_type": "text"
      },
      "source": [
        "<a href=\"https://colab.research.google.com/github/ganeshk79/Bharat_Intern/blob/main/sms_spam_classifier.ipynb\" target=\"_parent\"><img src=\"https://colab.research.google.com/assets/colab-badge.svg\" alt=\"Open In Colab\"/></a>"
      ]
    },
    {
      "cell_type": "markdown",
      "source": [
        "# Task 1: SMS SPAM CLASSIFIER\n",
        "BY GANESH KARIBANDI"
      ],
      "metadata": {
        "id": "GbFoEGg0tVfk"
      }
    },
    {
      "cell_type": "markdown",
      "source": [
        "This code performs spam detection using a Naive Bayes classifier on a dataset of text messages. Here's a step-by-step explanation:\n",
        "\n",
        "#Import Libraries:\n",
        "**pandas**: Used for data manipulation and analysis.\n",
        "**re**: Regular expression library for text preprocessing.\n",
        "**nltk**: Natural Language Toolkit for natural language processing tasks.\n",
        "**CountVectorizer**: Converts a collection of text documents to a matrix of token counts.\n",
        "MultinomialNB: Implementation of Naive Bayes classifier suitable for classification with discrete features.\n",
        "Various metrics and tools for evaluating the classifier"
      ],
      "metadata": {
        "id": "oZiT0C4QtVzl"
      }
    },
    {
      "cell_type": "code",
      "source": [
        "import pandas as pd\n",
        "import re\n",
        "import nltk\n",
        "from nltk.corpus import stopwords\n",
        "from nltk.stem.porter import PorterStemmer\n",
        "from nltk.tokenize import word_tokenize\n",
        "from sklearn.feature_extraction.text import CountVectorizer\n",
        "from sklearn.naive_bayes import MultinomialNB\n",
        "from sklearn.metrics import (\n",
        "    accuracy_score,\n",
        "    confusion_matrix,\n",
        "    ConfusionMatrixDisplay,\n",
        "    f1_score,\n",
        ")\n",
        "import matplotlib.pyplot as plt\n",
        "import seaborn as sns\n",
        "nltk.download('stopwords')\n",
        "nltk.download('punkt')"
      ],
      "metadata": {
        "id": "5-8ZB6ORtleY"
      },
      "execution_count": 1,
      "outputs": []
    },
    {
      "cell_type": "markdown",
      "source": [
        "#Read Data:\n",
        "Read a CSV file containing text messages. The relevant columns are 'v1' (label) and 'v2' (text message content)."
      ],
      "metadata": {
        "id": "uJVerQoQttnK"
      }
    },
    {
      "cell_type": "code",
      "source": [
        "text_messages = pd.read_csv('/train_spam.csv', encoding='ISO-8859-1', usecols=['v1', 'v2'])\n"
      ],
      "metadata": {
        "id": "nEl4J-JAts4J"
      },
      "execution_count": 2,
      "outputs": []
    },
    {
      "cell_type": "markdown",
      "source": [
        "#Text Preprocessing:\n",
        "Tokenize, convert to lowercase, remove non-alphabetic characters, remove stopwords, and apply stemming to the text messages."
      ],
      "metadata": {
        "id": "kfXeW-not5Iv"
      }
    },
    {
      "cell_type": "code",
      "source": [
        "stemmer = PorterStemmer()\n",
        "stop_words = set(stopwords.words('english'))\n",
        "\n",
        "def preprocess_text(text):\n",
        "    text = re.sub('[^a-zA-Z]', ' ', text)\n",
        "    text = text.lower()\n",
        "    words = word_tokenize(text)\n",
        "    words = [word for word in words if word not in stop_words]\n",
        "    words = [stemmer.stem(word) for word in words]\n",
        "    return ' '.join(words)\n",
        "\n",
        "text_messages['v2'] = text_messages['v2'].apply(preprocess_text)"
      ],
      "metadata": {
        "id": "28Fg6yxRt2Br"
      },
      "execution_count": 9,
      "outputs": []
    },
    {
      "cell_type": "markdown",
      "source": [
        "#Feature Extraction:\n",
        "Use CountVectorizer to convert the text data into a bag-of-words representation (matrix of token counts)."
      ],
      "metadata": {
        "id": "TYPS0B3LvJbH"
      }
    },
    {
      "cell_type": "code",
      "source": [
        "cv = CountVectorizer(max_features=3000)\n",
        "X = cv.fit_transform(text_messages['v2']).toarray()"
      ],
      "metadata": {
        "id": "aem_HuTnt_mz"
      },
      "execution_count": 10,
      "outputs": []
    },
    {
      "cell_type": "markdown",
      "source": [
        "#Prepare Labels:\n",
        "Convert the categorical labels into binary format."
      ],
      "metadata": {
        "id": "J8d8XlGWvdk6"
      }
    },
    {
      "cell_type": "code",
      "source": [
        "y = pd.get_dummies(text_messages['v1'])\n",
        "y = y.iloc[:, 1].values"
      ],
      "metadata": {
        "id": "Rnl-5i-7vb53"
      },
      "execution_count": 11,
      "outputs": []
    },
    {
      "cell_type": "markdown",
      "source": [
        "#Split Data:\n",
        "Split the data into training and testing sets."
      ],
      "metadata": {
        "id": "-IsHuWmBvlMB"
      }
    },
    {
      "cell_type": "code",
      "source": [
        "from sklearn.model_selection import train_test_split\n",
        "\n",
        "X_train, X_test, y_train, y_test = train_test_split(X, y, test_size=0.20, random_state=0)\n"
      ],
      "metadata": {
        "id": "hPTQjaUnvkZL"
      },
      "execution_count": 12,
      "outputs": []
    },
    {
      "cell_type": "markdown",
      "source": [
        "#Train Naive Bayes Model:\n",
        "Train a Multinomial Naive Bayes classifier using the training data"
      ],
      "metadata": {
        "id": "evY4O0FEvuDk"
      }
    },
    {
      "cell_type": "code",
      "source": [
        "spam_detection_model = MultinomialNB().fit(X_train, y_train)"
      ],
      "metadata": {
        "id": "oEhVo1wavrMs"
      },
      "execution_count": 13,
      "outputs": []
    },
    {
      "cell_type": "markdown",
      "source": [
        "#Evaluate Model:\n",
        "Use various metrics (accuracy, F1 score) to evaluate the performance of the model on the test set."
      ],
      "metadata": {
        "id": "nYrO0SCYv1Yr"
      }
    },
    {
      "cell_type": "code",
      "source": [
        "y_pred = spam_detection_model.predict(X_test)\n",
        "accuracy = accuracy_score(y_pred, y_test)\n",
        "f1 = f1_score(y_pred, y_test, average=\"weighted\")\n",
        "\n",
        "print(\"Accuracy:\", accuracy)\n",
        "print(\"F1 Score:\", f1)"
      ],
      "metadata": {
        "colab": {
          "base_uri": "https://localhost:8080/"
        },
        "id": "0iPd_LNgvy7v",
        "outputId": "34073e20-402e-41a3-a485-82a5aa5d25fb"
      },
      "execution_count": 14,
      "outputs": [
        {
          "output_type": "stream",
          "name": "stdout",
          "text": [
            "Accuracy: 0.9874439461883409\n",
            "F1 Score: 0.9874439461883409\n"
          ]
        }
      ]
    },
    {
      "cell_type": "markdown",
      "source": [
        "#Confusion Matrix Visualization:\n",
        "Display the confusion matrix using ConfusionMatrixDisplay."
      ],
      "metadata": {
        "id": "tfW-DuRmv9sX"
      }
    },
    {
      "cell_type": "code",
      "source": [
        "labels = [0, 1]\n",
        "cm = confusion_matrix(y_test, y_pred, labels=labels)\n",
        "disp = ConfusionMatrixDisplay(confusion_matrix=cm, display_labels=labels)\n",
        "disp.plot()"
      ],
      "metadata": {
        "colab": {
          "base_uri": "https://localhost:8080/",
          "height": 466
        },
        "id": "5oUR3dbtv62x",
        "outputId": "e947c10a-ba13-4387-c926-e562aae78079"
      },
      "execution_count": 15,
      "outputs": [
        {
          "output_type": "execute_result",
          "data": {
            "text/plain": [
              "<sklearn.metrics._plot.confusion_matrix.ConfusionMatrixDisplay at 0x7dd4fb746bf0>"
            ]
          },
          "metadata": {},
          "execution_count": 15
        },
        {
          "output_type": "display_data",
          "data": {
            "text/plain": [
              "<Figure size 640x480 with 2 Axes>"
            ],
            "image/png": "[encoded data removed]"
          },
          "metadata": {}
        }
      ]
    },
    {
      "cell_type": "markdown",
      "source": [
        "#Make Predictions on New Data:\n",
        "Preprocess new text messages and use the trained model to make predictions."
      ],
      "metadata": {
        "id": "tM4aX-WnwEAM"
      }
    },
    {
      "cell_type": "code",
      "source": [
        "new_messages = ['Get a free cruise now!', 'Hey, can you pick up some milk on your way home?']\n",
        "new_messages = [preprocess_text(msg) for msg in new_messages]\n",
        "new_messages = cv.transform(new_messages)\n",
        "predictions1 = spam_detection_model.predict(new_messages)\n",
        "for i in predictions1:\n",
        "    if i:\n",
        "        print(\"spam message\")\n",
        "    else:\n",
        "        print(\"ham message\")"
      ],
      "metadata": {
        "colab": {
          "base_uri": "https://localhost:8080/"
        },
        "id": "9TmrFOQkwNT2",
        "outputId": "95a181e3-b94e-489f-d385-bcffbcbb80d5"
      },
      "execution_count": 17,
      "outputs": [
        {
          "output_type": "stream",
          "name": "stdout",
          "text": [
            "spam message\n",
            "ham message\n"
          ]
        }
      ]
    },
    {
      "cell_type": "markdown",
      "source": [
        "This script can be used as a basic template for building a spam detection system using a Naive Bayes classifier with text data."
      ],
      "metadata": {
        "id": "wyKbZzyvwTkU"
      }
    },
    {
      "cell_type": "code",
      "source": [
        "df = pd.read_csv('/test_spam.csv',usecols=['text'])\n",
        "new_messages = [preprocess_text(msg) for msg in df['text']]\n",
        "new_messages = cv.transform(new_messages)\n",
        "predictions = spam_detection_model.predict(new_messages)\n",
        "df['Spam message']=predictions\n",
        "df['Spam message']=df['Spam message'].replace(1,True)\n",
        "df['Spam message']=df['Spam message'].replace(0,False)\n",
        "display(df.head(10))"
      ],
      "metadata": {
        "colab": {
          "base_uri": "https://localhost:8080/",
          "height": 385
        },
        "id": "y2qMClyqwSak",
        "outputId": "8e128d98-665c-499e-ac81-83c4dbf19c2d"
      },
      "execution_count": 24,
      "outputs": [
        {
          "output_type": "display_data",
          "data": {
            "text/plain": [
              "                                                text  Spam message\n",
              "0  CREDITED: Rs.75 wallet money. Use it to order ...          True\n",
              "1  Shoe styles paired with minimal looks, perfect...          True\n",
              "2  Kejani Cleaning Services offers comprehensive,...         False\n",
              "3  Carrefour Fridays month is on!! Crazy deals ev...         False\n",
              "4  Keep up with MTN Broadband! Visit https://apps...          True\n",
              "5  Get clientele HELP Cover today. Debi check and...          True\n",
              "6  Do you like your friend's signature? Reply wit...          True\n",
              "7  Get 2.5GB + 100 Telkom Mins +2 Bob/ Min to oth...          True\n",
              "8  Enjoy more talktime when you recharge your Air...          True\n",
              "9  25% Discount - Get Ultra 50GB from MyTelenor A...          True"
            ],
            "text/html": [
              "\n",
              "  <div id=\"df-a31ad2fc-d79e-4d38-a663-3ec5e1ab8e37\" class=\"colab-df-container\">\n",
              "    <div>\n",
              "<style scoped>\n",
              "    .dataframe tbody tr th:only-of-type {\n",
              "        vertical-align: middle;\n",
              "    }\n",
              "\n",
              "    .dataframe tbody tr th {\n",
              "        vertical-align: top;\n",
              "    }\n",
              "\n",
              "    .dataframe thead th {\n",
              "        text-align: right;\n",
              "    }\n",
              "</style>\n",
              "<table border=\"1\" class=\"dataframe\">\n",
              "  <thead>\n",
              "    <tr style=\"text-align: right;\">\n",
              "      <th></th>\n",
              "      <th>text</th>\n",
              "      <th>Spam message</th>\n",
              "    </tr>\n",
              "  </thead>\n",
              "  <tbody>\n",
              "    <tr>\n",
              "      <th>0</th>\n",
              "      <td>CREDITED: Rs.75 wallet money. Use it to order ...</td>\n",
              "      <td>True</td>\n",
              "    </tr>\n",
              "    <tr>\n",
              "      <th>1</th>\n",
              "      <td>Shoe styles paired with minimal looks, perfect...</td>\n",
              "      <td>True</td>\n",
              "    </tr>\n",
              "    <tr>\n",
              "      <th>2</th>\n",
              "      <td>Kejani Cleaning Services offers comprehensive,...</td>\n",
              "      <td>False</td>\n",
              "    </tr>\n",
              "    <tr>\n",
              "      <th>3</th>\n",
              "      <td>Carrefour Fridays month is on!! Crazy deals ev...</td>\n",
              "      <td>False</td>\n",
              "    </tr>\n",
              "    <tr>\n",
              "      <th>4</th>\n",
              "      <td>Keep up with MTN Broadband! Visit https://apps...</td>\n",
              "      <td>True</td>\n",
              "    </tr>\n",
              "    <tr>\n",
              "      <th>5</th>\n",
              "      <td>Get clientele HELP Cover today. Debi check and...</td>\n",
              "      <td>True</td>\n",
              "    </tr>\n",
              "    <tr>\n",
              "      <th>6</th>\n",
              "      <td>Do you like your friend's signature? Reply wit...</td>\n",
              "      <td>True</td>\n",
              "    </tr>\n",
              "    <tr>\n",
              "      <th>7</th>\n",
              "      <td>Get 2.5GB + 100 Telkom Mins +2 Bob/ Min to oth...</td>\n",
              "      <td>True</td>\n",
              "    </tr>\n",
              "    <tr>\n",
              "      <th>8</th>\n",
              "      <td>Enjoy more talktime when you recharge your Air...</td>\n",
              "      <td>True</td>\n",
              "    </tr>\n",
              "    <tr>\n",
              "      <th>9</th>\n",
              "      <td>25% Discount - Get Ultra 50GB from MyTelenor A...</td>\n",
              "      <td>True</td>\n",
              "    </tr>\n",
              "  </tbody>\n",
              "</table>\n",
              "</div>\n",
              "    <div class=\"colab-df-buttons\">\n",
              "\n",
              "  <div class=\"colab-df-container\">\n",
              "    <button class=\"colab-df-convert\" onclick=\"convertToInteractive('df-a31ad2fc-d79e-4d38-a663-3ec5e1ab8e37')\"\n",
              "            title=\"Convert this dataframe to an interactive table.\"\n",
              "            style=\"display:none;\">\n",
              "\n",
              "  <svg xmlns=\"http://www.w3.org/2000/svg\" height=\"24px\" viewBox=\"0 -960 960 960\">\n",
              "    <path d=\"M120-120v-720h720v720H120Zm60-500h600v-160H180v160Zm220 220h160v-160H400v160Zm0 220h160v-160H400v160ZM180-400h160v-160H180v160Zm440 0h160v-160H620v160ZM180-180h160v-160H180v160Zm440 0h160v-160H620v160Z\"/>\n",
              "  </svg>\n",
              "    </button>\n",
              "\n",
              "  <style>\n",
              "    .colab-df-container {\n",
              "      display:flex;\n",
              "      gap: 12px;\n",
              "    }\n",
              "\n",
              "    .colab-df-convert {\n",
              "      background-color: #E8F0FE;\n",
              "      border: none;\n",
              "      border-radius: 50%;\n",
              "      cursor: pointer;\n",
              "      display: none;\n",
              "      fill: #1967D2;\n",
              "      height: 32px;\n",
              "      padding: 0 0 0 0;\n",
              "      width: 32px;\n",
              "    }\n",
              "\n",
              "    .colab-df-convert:hover {\n",
              "      background-color: #E2EBFA;\n",
              "      box-shadow: 0px 1px 2px rgba(60, 64, 67, 0.3), 0px 1px 3px 1px rgba(60, 64, 67, 0.15);\n",
              "      fill: #174EA6;\n",
              "    }\n",
              "\n",
              "    .colab-df-buttons div {\n",
              "      margin-bottom: 4px;\n",
              "    }\n",
              "\n",
              "    [theme=dark] .colab-df-convert {\n",
              "      background-color: #3B4455;\n",
              "      fill: #D2E3FC;\n",
              "    }\n",
              "\n",
              "    [theme=dark] .colab-df-convert:hover {\n",
              "      background-color: #434B5C;\n",
              "      box-shadow: 0px 1px 3px 1px rgba(0, 0, 0, 0.15);\n",
              "      filter: drop-shadow(0px 1px 2px rgba(0, 0, 0, 0.3));\n",
              "      fill: #FFFFFF;\n",
              "    }\n",
              "  </style>\n",
              "\n",
              "    <script>\n",
              "      const buttonEl =\n",
              "        document.querySelector('#df-a31ad2fc-d79e-4d38-a663-3ec5e1ab8e37 button.colab-df-convert');\n",
              "      buttonEl.style.display =\n",
              "        google.colab.kernel.accessAllowed ? 'block' : 'none';\n",
              "\n",
              "      async function convertToInteractive(key) {\n",
              "        const element = document.querySelector('#df-a31ad2fc-d79e-4d38-a663-3ec5e1ab8e37');\n",
              "        const dataTable =\n",
              "          await google.colab.kernel.invokeFunction('convertToInteractive',\n",
              "                                                    [key], {});\n",
              "        if (!dataTable) return;\n",
              "\n",
              "        const docLinkHtml = 'Like what you see? Visit the ' +\n",
              "          '<a target=\"_blank\" href=https://colab.research.google.com/notebooks/data_table.ipynb>data table notebook</a>'\n",
              "          + ' to learn more about interactive tables.';\n",
              "        element.innerHTML = '';\n",
              "        dataTable['output_type'] = 'display_data';\n",
              "        await google.colab.output.renderOutput(dataTable, element);\n",
              "        const docLink = document.createElement('div');\n",
              "        docLink.innerHTML = docLinkHtml;\n",
              "        element.appendChild(docLink);\n",
              "      }\n",
              "    </script>\n",
              "  </div>\n",
              "\n",
              "\n",
              "<div id=\"df-89637586-066f-4609-b835-20105812107a\">\n",
              "  <button class=\"colab-df-quickchart\" onclick=\"quickchart('df-89637586-066f-4609-b835-20105812107a')\"\n",
              "            title=\"Suggest charts\"\n",
              "            style=\"display:none;\">\n",
              "\n",
              "<svg xmlns=\"http://www.w3.org/2000/svg\" height=\"24px\"viewBox=\"0 0 24 24\"\n",
              "     width=\"24px\">\n",
              "    <g>\n",
              "        <path d=\"M19 3H5c-1.1 0-2 .9-2 2v14c0 1.1.9 2 2 2h14c1.1 0 2-.9 2-2V5c0-1.1-.9-2-2-2zM9 17H7v-7h2v7zm4 0h-2V7h2v10zm4 0h-2v-4h2v4z\"/>\n",
              "    </g>\n",
              "</svg>\n",
              "  </button>\n",
              "\n",
              "<style>\n",
              "  .colab-df-quickchart {\n",
              "      --bg-color: #E8F0FE;\n",
              "      --fill-color: #1967D2;\n",
              "      --hover-bg-color: #E2EBFA;\n",
              "      --hover-fill-color: #174EA6;\n",
              "      --disabled-fill-color: #AAA;\n",
              "      --disabled-bg-color: #DDD;\n",
              "  }\n",
              "\n",
              "  [theme=dark] .colab-df-quickchart {\n",
              "      --bg-color: #3B4455;\n",
              "      --fill-color: #D2E3FC;\n",
              "      --hover-bg-color: #434B5C;\n",
              "      --hover-fill-color: #FFFFFF;\n",
              "      --disabled-bg-color: #3B4455;\n",
              "      --disabled-fill-color: #666;\n",
              "  }\n",
              "\n",
              "  .colab-df-quickchart {\n",
              "    background-color: var(--bg-color);\n",
              "    border: none;\n",
              "    border-radius: 50%;\n",
              "    cursor: pointer;\n",
              "    display: none;\n",
              "    fill: var(--fill-color);\n",
              "    height: 32px;\n",
              "    padding: 0;\n",
              "    width: 32px;\n",
              "  }\n",
              "\n",
              "  .colab-df-quickchart:hover {\n",
              "    background-color: var(--hover-bg-color);\n",
              "    box-shadow: 0 1px 2px rgba(60, 64, 67, 0.3), 0 1px 3px 1px rgba(60, 64, 67, 0.15);\n",
              "    fill: var(--button-hover-fill-color);\n",
              "  }\n",
              "\n",
              "  .colab-df-quickchart-complete:disabled,\n",
              "  .colab-df-quickchart-complete:disabled:hover {\n",
              "    background-color: var(--disabled-bg-color);\n",
              "    fill: var(--disabled-fill-color);\n",
              "    box-shadow: none;\n",
              "  }\n",
              "\n",
              "  .colab-df-spinner {\n",
              "    border: 2px solid var(--fill-color);\n",
              "    border-color: transparent;\n",
              "    border-bottom-color: var(--fill-color);\n",
              "    animation:\n",
              "      spin 1s steps(1) infinite;\n",
              "  }\n",
              "\n",
              "  @keyframes spin {\n",
              "    0% {\n",
              "      border-color: transparent;\n",
              "      border-bottom-color: var(--fill-color);\n",
              "      border-left-color: var(--fill-color);\n",
              "    }\n",
              "    20% {\n",
              "      border-color: transparent;\n",
              "      border-left-color: var(--fill-color);\n",
              "      border-top-color: var(--fill-color);\n",
              "    }\n",
              "    30% {\n",
              "      border-color: transparent;\n",
              "      border-left-color: var(--fill-color);\n",
              "      border-top-color: var(--fill-color);\n",
              "      border-right-color: var(--fill-color);\n",
              "    }\n",
              "    40% {\n",
              "      border-color: transparent;\n",
              "      border-right-color: var(--fill-color);\n",
              "      border-top-color: var(--fill-color);\n",
              "    }\n",
              "    60% {\n",
              "      border-color: transparent;\n",
              "      border-right-color: var(--fill-color);\n",
              "    }\n",
              "    80% {\n",
              "      border-color: transparent;\n",
              "      border-right-color: var(--fill-color);\n",
              "      border-bottom-color: var(--fill-color);\n",
              "    }\n",
              "    90% {\n",
              "      border-color: transparent;\n",
              "      border-bottom-color: var(--fill-color);\n",
              "    }\n",
              "  }\n",
              "</style>\n",
              "\n",
              "  <script>\n",
              "    async function quickchart(key) {\n",
              "      const quickchartButtonEl =\n",
              "        document.querySelector('#' + key + ' button');\n",
              "      quickchartButtonEl.disabled = true;  // To prevent multiple clicks.\n",
              "      quickchartButtonEl.classList.add('colab-df-spinner');\n",
              "      try {\n",
              "        const charts = await google.colab.kernel.invokeFunction(\n",
              "            'suggestCharts', [key], {});\n",
              "      } catch (error) {\n",
              "        console.error('Error during call to suggestCharts:', error);\n",
              "      }\n",
              "      quickchartButtonEl.classList.remove('colab-df-spinner');\n",
              "      quickchartButtonEl.classList.add('colab-df-quickchart-complete');\n",
              "    }\n",
              "    (() => {\n",
              "      let quickchartButtonEl =\n",
              "        document.querySelector('#df-89637586-066f-4609-b835-20105812107a button');\n",
              "      quickchartButtonEl.style.display =\n",
              "        google.colab.kernel.accessAllowed ? 'block' : 'none';\n",
              "    })();\n",
              "  </script>\n",
              "</div>\n",
              "    </div>\n",
              "  </div>\n"
            ]
          },
          "metadata": {}
        }
      ]
    },
    {
      "source": [
        "df.groupby('Spam message').size().plot(kind='barh', color=sns.palettes.mpl_palette('Dark2'))\n",
        "plt.gca().spines[['top', 'right',]].set_visible(False)"
      ],
      "cell_type": "code",
      "metadata": {
        "colab": {
          "base_uri": "https://localhost:8080/",
          "height": 430
        },
        "id": "BDOXKXMSyvfh",
        "outputId": "92813dec-a81b-4bff-ef65-0dcf2c91b883"
      },
      "execution_count": 25,
      "outputs": [
        {
          "output_type": "display_data",
          "data": {
            "text/plain": [
              "<Figure size 640x480 with 1 Axes>"
            ],
            "image/png": "[encoded data removed]"
          },
          "metadata": {}
        }
      ]
    },
    {
      "cell_type": "code",
      "source": [],
      "metadata": {
        "id": "V-uvDHqwx7lf"
      },
      "execution_count": 23,
      "outputs": []
    }
  ]
}